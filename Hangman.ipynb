{
 "cells": [
  {
   "cell_type": "code",
   "execution_count": 3,
   "id": "7fc304d7-c913-4d6a-bcba-0db23b903e7d",
   "metadata": {},
   "outputs": [
    {
     "name": "stdout",
     "output_type": "stream",
     "text": [
      "H A N G M A N\n",
      "\n",
      "  +---+\n",
      "  |   |\n",
      "      |\n",
      "      |\n",
      "      |\n",
      "      |\n",
      "=========\n",
      "\n",
      "Missed letters: \n",
      "_ _ _ _ _ \n"
     ]
    },
    {
     "name": "stdin",
     "output_type": "stream",
     "text": [
      "Guess a letter. c\n"
     ]
    },
    {
     "name": "stdout",
     "output_type": "stream",
     "text": [
      "\n",
      "  +---+\n",
      "  |   |\n",
      "  O   |\n",
      "      |\n",
      "      |\n",
      "      |\n",
      "=========\n",
      "\n",
      "Missed letters: c \n",
      "_ _ _ _ _ \n"
     ]
    },
    {
     "name": "stdin",
     "output_type": "stream",
     "text": [
      "Guess a letter. o\n"
     ]
    },
    {
     "name": "stdout",
     "output_type": "stream",
     "text": [
      "\n",
      "  +---+\n",
      "  |   |\n",
      "  O   |\n",
      "      |\n",
      "      |\n",
      "      |\n",
      "=========\n",
      "\n",
      "Missed letters: c \n",
      "_ _ o _ _ \n"
     ]
    },
    {
     "name": "stdin",
     "output_type": "stream",
     "text": [
      "Guess a letter. a\n"
     ]
    },
    {
     "name": "stdout",
     "output_type": "stream",
     "text": [
      "\n",
      "  +---+\n",
      "  |   |\n",
      "  O   |\n",
      "  |   |\n",
      "      |\n",
      "      |\n",
      "=========\n",
      "\n",
      "Missed letters: c a \n",
      "_ _ o _ _ \n"
     ]
    },
    {
     "name": "stdin",
     "output_type": "stream",
     "text": [
      "Guess a letter. e\n"
     ]
    },
    {
     "name": "stdout",
     "output_type": "stream",
     "text": [
      "\n",
      "  +---+\n",
      "  |   |\n",
      "  O   |\n",
      " /|   |\n",
      "      |\n",
      "      |\n",
      "=========\n",
      "\n",
      "Missed letters: c a e \n",
      "_ _ o _ _ \n"
     ]
    },
    {
     "name": "stdin",
     "output_type": "stream",
     "text": [
      "Guess a letter. r\n"
     ]
    },
    {
     "name": "stdout",
     "output_type": "stream",
     "text": [
      "\n",
      "  +---+\n",
      "  |   |\n",
      "  O   |\n",
      " /|   |\n",
      "      |\n",
      "      |\n",
      "=========\n",
      "\n",
      "Missed letters: c a e \n",
      "_ r o _ _ \n"
     ]
    },
    {
     "name": "stdin",
     "output_type": "stream",
     "text": [
      "Guess a letter. g\n"
     ]
    },
    {
     "name": "stdout",
     "output_type": "stream",
     "text": [
      "\n",
      "  +---+\n",
      "  |   |\n",
      "  O   |\n",
      " /|\\  |\n",
      "      |\n",
      "      |\n",
      "=========\n",
      "\n",
      "Missed letters: c a e g \n",
      "_ r o _ _ \n"
     ]
    },
    {
     "name": "stdin",
     "output_type": "stream",
     "text": [
      "Guess a letter. j\n"
     ]
    },
    {
     "name": "stdout",
     "output_type": "stream",
     "text": [
      "\n",
      "  +---+\n",
      "  |   |\n",
      "  O   |\n",
      " /|\\  |\n",
      " /    |\n",
      "      |\n",
      "=========\n",
      "\n",
      "Missed letters: c a e g j \n",
      "_ r o _ _ \n"
     ]
    },
    {
     "name": "stdin",
     "output_type": "stream",
     "text": [
      "Guess a letter. w\n"
     ]
    },
    {
     "name": "stdout",
     "output_type": "stream",
     "text": [
      "\n",
      "  +---+\n",
      "  |   |\n",
      "  O   |\n",
      " /|\\  |\n",
      " / \\  |\n",
      "      |\n",
      "=========\n",
      "\n",
      "Missed letters: c a e g j w \n",
      "_ r o _ _ \n",
      "You have run out of guesses!\n",
      "After 6 missed guesses and 2 correct guesses, the word was \"trout\"\n",
      "Do you want to play again? (yes or no)\n"
     ]
    },
    {
     "name": "stdin",
     "output_type": "stream",
     "text": [
      " n\n"
     ]
    }
   ],
   "source": [
    "import warnings \n",
    "warnings.filterwarnings(\"ignore\")\n",
    "import random\n",
    "\n",
    "HANGMAN_PICS = ['''\n",
    "  +---+\n",
    "  |   |\n",
    "      |\n",
    "      |\n",
    "      |\n",
    "      |\n",
    "=========''', '''\n",
    "  +---+\n",
    "  |   |\n",
    "  O   |\n",
    "      |\n",
    "      |\n",
    "      |\n",
    "=========''', '''\n",
    "  +---+\n",
    "  |   |\n",
    "  O   |\n",
    "  |   |\n",
    "      |\n",
    "      |\n",
    "=========''', '''\n",
    "  +---+\n",
    "  |   |\n",
    "  O   |\n",
    " /|   |\n",
    "      |\n",
    "      |\n",
    "=========''', '''\n",
    "  +---+\n",
    "  |   |\n",
    "  O   |\n",
    " /|\\  |\n",
    "      |\n",
    "      |\n",
    "=========''', '''\n",
    "  +---+\n",
    "  |   |\n",
    "  O   |\n",
    " /|\\  |\n",
    " /    |\n",
    "      |\n",
    "=========''', '''\n",
    "  +---+\n",
    "  |   |\n",
    "  O   |\n",
    " /|\\  |\n",
    " / \\  |\n",
    "      |\n",
    "=========''']\n",
    "\n",
    "words = 'ant baboon badger bat bear beaver camel cat clam cobra cougar coyote crow deer dog donkey duck eagle ferret fox frog goat goose hawk lion lizard llama mole monkey moose mouse mule newt otter owl panda parrot pigeon python rabbit ram rat raven rhino salmon seal shark sheep skunk sloth snake spider stork swan tiger toad trout turkey turtle weasel whale wolf wombat zebra'.split()\n",
    "\n",
    "def getRandomWord(wordList):\n",
    "    # This function returns a random string from the passed list of strings.\n",
    "    wordIndex = random.randint(0, len(wordList) - 1)\n",
    "    return wordList[wordIndex]\n",
    "\n",
    "def displayBoard(HANGMAN_PICS, missedLetters, correctLetters, secretWord):\n",
    "    print(HANGMAN_PICS[len(missedLetters)])\n",
    "    print()\n",
    "\n",
    "    print('Missed letters:', end=' ')\n",
    "    for letter in missedLetters:\n",
    "        print(letter, end=' ')\n",
    "    print()\n",
    "\n",
    "    blanks = '_' * len(secretWord)\n",
    "\n",
    "    for i in range(len(secretWord)): # replace blanks with correctly guessed letters\n",
    "        if secretWord[i] in correctLetters:\n",
    "            blanks = blanks[:i] + secretWord[i] + blanks[i+1:]\n",
    "\n",
    "    for letter in blanks: # show the secret word with spaces in between each letter\n",
    "        print(letter, end=' ')\n",
    "    print()\n",
    "\n",
    "def getGuess(alreadyGuessed):\n",
    "    # Returns the letter the player entered. This function makes sure the player entered a single letter, and not something else.\n",
    "    while True:\n",
    "        guess = input('Guess a letter.').lower()\n",
    "        if len(guess) != 1:\n",
    "            print('Please enter a single letter.')\n",
    "        elif guess in alreadyGuessed:\n",
    "            print('You have already guessed that letter. Choose again.')\n",
    "        elif guess not in 'abcdefghijklmnopqrstuvwxyz':\n",
    "            print('Please enter a LETTER.')\n",
    "        else:\n",
    "            return guess\n",
    "\n",
    "def playAgain():\n",
    "    # This function returns True if the player wants to play again, otherwise it returns False.\n",
    "    print('Do you want to play again? (yes or no)')\n",
    "    return input().lower().startswith('y')\n",
    "\n",
    "print('H A N G M A N')\n",
    "missedLetters = ''\n",
    "correctLetters = ''\n",
    "secretWord = getRandomWord(words)\n",
    "gameIsDone = False\n",
    "\n",
    "while True:\n",
    "    displayBoard(HANGMAN_PICS, missedLetters, correctLetters, secretWord)\n",
    "\n",
    "    # Let the player type in a letter.\n",
    "    guess = getGuess(missedLetters + correctLetters)\n",
    "\n",
    "    if guess in secretWord:\n",
    "        correctLetters = correctLetters + guess\n",
    "\n",
    "        # Check if the player has won\n",
    "        foundAllLetters = True\n",
    "        for i in range(len(secretWord)):\n",
    "            if secretWord[i] not in correctLetters:\n",
    "                foundAllLetters = False\n",
    "                break\n",
    "        if foundAllLetters:\n",
    "            print('Yes! The secret word is \"' + secretWord + '\"! You have won!')\n",
    "            gameIsDone = True\n",
    "    else:\n",
    "        missedLetters = missedLetters + guess\n",
    "\n",
    "        # Check if player has guessed too many times and lost\n",
    "        if len(missedLetters) == len(HANGMAN_PICS) - 1:\n",
    "            displayBoard(HANGMAN_PICS, missedLetters, correctLetters, secretWord)\n",
    "            print('You have run out of guesses!\\nAfter ' + str(len(missedLetters)) + ' missed guesses and ' + str(len(correctLetters)) + ' correct guesses, the word was \"' + secretWord + '\"')\n",
    "            gameIsDone = True\n",
    "\n",
    "    # Ask the player if they want to play again (but only if the game is done).\n",
    "    if gameIsDone:\n",
    "        if playAgain():\n",
    "            missedLetters = ''\n",
    "            correctLetters = ''\n",
    "            gameIsDone = False\n",
    "            secretWord = getRandomWord(words)\n",
    "        else:\n",
    "            break\n",
    "\n",
    "\n"
   ]
  },
  {
   "cell_type": "code",
   "execution_count": null,
   "id": "e31d7fd7-f892-45db-9692-59ea5ae50f08",
   "metadata": {},
   "outputs": [],
   "source": []
  }
 ],
 "metadata": {
  "kernelspec": {
   "display_name": "Python 3 (ipykernel)",
   "language": "python",
   "name": "python3"
  },
  "language_info": {
   "codemirror_mode": {
    "name": "ipython",
    "version": 3
   },
   "file_extension": ".py",
   "mimetype": "text/x-python",
   "name": "python",
   "nbconvert_exporter": "python",
   "pygments_lexer": "ipython3",
   "version": "3.13.3"
  }
 },
 "nbformat": 4,
 "nbformat_minor": 5
}
